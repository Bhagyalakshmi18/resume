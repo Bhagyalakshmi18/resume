{
 "cells": [
  {
   "cell_type": "code",
   "execution_count": 1,
   "metadata": {},
   "outputs": [],
   "source": [
    "import selenium\n",
    "from selenium import webdriver as wb\n",
    "from selenium.webdriver.chrome.options import Options\n",
    "from selenium.webdriver.common.keys import Keys\n",
    "from selenium.webdriver.common.action_chains import ActionChains\n",
    "from random import randrange\n",
    "from tqdm import tqdm\n",
    "from config import Username,Password\n",
    "import time\n",
    "import os\n",
    "import re\n",
    "import shutil\n",
    "import glob\n",
    "import sys"
   ]
  },
  {
   "cell_type": "code",
   "execution_count": 2,
   "metadata": {},
   "outputs": [],
   "source": [
    "def Driver_Properties(download_folder):\n",
    "    options = Options()\n",
    "    options = wb.ChromeOptions()\n",
    "    prefs = {\n",
    "            \"download.default_directory\": download_folder,\n",
    "            \"download.prompt_for_download\": False,\n",
    "            \"download.directory_upgrade\": True,\n",
    "            \"safebrowsing.disable_download_protection\": True,\n",
    "            \"safebrowsing.enabled\": True\n",
    "            }\n",
    "    options.add_experimental_option(\"prefs\", prefs)\n",
    "    options.add_argument(\"window-size=1200x600\")\n",
    "    options.add_argument('start-maximized')\n",
    "    options.add_argument('disable-infobars')\n",
    "    driver = wb.Chrome(options=options)\n",
    "    return driver"
   ]
  },
  {
   "cell_type": "code",
   "execution_count": 3,
   "metadata": {},
   "outputs": [],
   "source": [
    "def Linkedin_Login(Username,Password):\n",
    "    driver.get('https://www.linkedin.com/login')\n",
    "    username = driver.find_element_by_id('username')\n",
    "    username.send_keys(Username)\n",
    "    passwd = driver.find_element_by_id('password')\n",
    "    passwd.send_keys(Password)\n",
    "    passwd.send_keys(Keys.ENTER)\n",
    "    time.sleep(2)"
   ]
  },
  {
   "cell_type": "code",
   "execution_count": 4,
   "metadata": {},
   "outputs": [],
   "source": [
    "def Search_Role(role):\n",
    "    s = driver.find_element_by_class_name('nav-search-typeahead')\n",
    "    sr = s.find_element_by_class_name('search-global-typeahead__input')\n",
    "    sr.send_keys(role)\n",
    "    sr.send_keys(Keys.ENTER)\n",
    "    time.sleep(2)\n",
    "    #navigate to People tab\n",
    "    ao = driver.find_element_by_class_name('authentication-outlet')\n",
    "    ng = ao.find_element_by_class_name('neptune-grid')\n",
    "    sf = ng.find_element_by_class_name('search-filters-bar') \n",
    "    people = sf.find_element_by_class_name('search-vertical-filter__filter-item').click()\n",
    "    time.sleep(2)"
   ]
  },
  {
   "cell_type": "code",
   "execution_count": 5,
   "metadata": {},
   "outputs": [],
   "source": [
    "def Filter_Location(location):\n",
    "    l = driver.find_element_by_class_name('peek-carousel')\n",
    "    l.find_element_by_class_name('search-s-facet--geoRegion').click()\n",
    "    to = driver.find_element_by_xpath(\"//input[@role='combobox'][@placeholder='Add a country/region']\") # changed from l to driver\n",
    "    to.clear\n",
    "    to.send_keys(location)\n",
    "    time.sleep(2)\n",
    "    to.send_keys(Keys.DOWN, Keys.RETURN)\n",
    "    driver.find_elements_by_tag_name('button')[11].click()"
   ]
  },
  {
   "cell_type": "code",
   "execution_count": 6,
   "metadata": {},
   "outputs": [],
   "source": [
    "def Get_Page_Urls(page_limit):\n",
    "    page_urls = []\n",
    "    initial_url = driver.current_url\n",
    "    page_urls.append(initial_url)\n",
    "    for i in range(2,page_limit):\n",
    "        url = initial_url+\"&page=\" + str(i)\n",
    "        page_urls.append(url)\n",
    "    return page_urls "
   ]
  },
  {
   "cell_type": "code",
   "execution_count": 7,
   "metadata": {},
   "outputs": [],
   "source": [
    "def Profile_Links(page_urls):\n",
    "    profilelinks = []\n",
    "    for i in tqdm(page_urls):\n",
    "        driver.get(i)\n",
    "        results = driver.find_elements_by_class_name(\"search-result__occluded-item\")\n",
    "        for result in results:\n",
    "            hover = ActionChains(driver).move_to_element(result)\n",
    "            hover.perform()\n",
    "            time.sleep(randrange(3,6))\n",
    "            links = result.find_element_by_class_name('search-result__result-link').get_property('href')\n",
    "            profilelinks.append(links)\n",
    "            time.sleep(randrange(3,6))\n",
    "    return profilelinks"
   ]
  },
  {
   "cell_type": "code",
   "execution_count": 8,
   "metadata": {},
   "outputs": [],
   "source": [
    "def download_wait(directory, timeout, nfiles=None):\n",
    "    \"\"\"\n",
    "    Wait for downloads to finish with a specified timeout.\n",
    "\n",
    "    Args\n",
    "    ----\n",
    "    directory : str\n",
    "        The path to the folder where the files will be downloaded.\n",
    "    timeout : int\n",
    "        How many seconds to wait until timing out.\n",
    "    nfiles : int, defaults to None\n",
    "        If provided, also wait for the expected number of files.\n",
    "\n",
    "    \"\"\"\n",
    "    seconds = 0\n",
    "    dl_wait = True\n",
    "    while dl_wait and seconds < timeout:\n",
    "        time.sleep(1)\n",
    "        dl_wait = False\n",
    "        files = os.listdir(directory)\n",
    "        if nfiles and len(files) != nfiles:\n",
    "            dl_wait = True\n",
    "\n",
    "        for fname in directory:\n",
    "            if fname.endswith('.crdownload'):\n",
    "                dl_wait = True\n",
    "\n",
    "        seconds += 1\n",
    "    return seconds"
   ]
  },
  {
   "cell_type": "code",
   "execution_count": 9,
   "metadata": {},
   "outputs": [],
   "source": [
    "def Download_Pdf(profilelinks,download_folder):\n",
    "    for i in tqdm(profilelinks):\n",
    "        driver.get(i)\n",
    "        m = driver.find_element_by_class_name(\"flex-1\")\n",
    "        m.find_element_by_class_name(\"pv-s-profile-actions__overflow\").click()\n",
    "        p_name = driver.find_element_by_css_selector('.inline').text\n",
    "        name = p_name.split(',')[0]\n",
    "        m.find_element_by_class_name('pv-s-profile-actions--save-to-pdf').click()\n",
    "        time.sleep(randrange(5, 10))\n",
    "        filename = max(glob.iglob(download_folder +'/*'), key=os.path.getmtime)\n",
    "        shutil.move(filename,os.path.join(download_folder, name + '.pdf'))\n",
    "        download_wait(download_folder, 20)\n",
    "        print(name)"
   ]
  },
  {
   "cell_type": "code",
   "execution_count": 10,
   "metadata": {},
   "outputs": [
    {
     "name": "stderr",
     "output_type": "stream",
     "text": [
      "100%|████████████████████████████████████████████████████████████████████████████████████| 2/2 [02:45<00:00, 82.26s/it]\n",
      "  0%|                                                                                           | 0/20 [00:00<?, ?it/s]"
     ]
    },
    {
     "name": "stdout",
     "output_type": "stream",
     "text": [
      "Farah Farouk\n"
     ]
    },
    {
     "name": "stderr",
     "output_type": "stream",
     "text": [
      "  5%|████▏                                                                              | 1/20 [00:12<03:50, 12.13s/it]"
     ]
    },
    {
     "name": "stdout",
     "output_type": "stream",
     "text": [
      "Sophia Alice\n"
     ]
    },
    {
     "name": "stderr",
     "output_type": "stream",
     "text": [
      " 10%|████████▎                                                                          | 2/20 [00:21<03:21, 11.17s/it]"
     ]
    },
    {
     "name": "stdout",
     "output_type": "stream",
     "text": [
      "Shirin Yavari\n"
     ]
    },
    {
     "name": "stderr",
     "output_type": "stream",
     "text": [
      " 15%|████████████▍                                                                      | 3/20 [00:31<03:04, 10.82s/it]"
     ]
    },
    {
     "name": "stdout",
     "output_type": "stream",
     "text": [
      "Himanshu Raj\n"
     ]
    },
    {
     "name": "stderr",
     "output_type": "stream",
     "text": [
      " 20%|████████████████▌                                                                  | 4/20 [00:41<02:53, 10.82s/it]"
     ]
    },
    {
     "name": "stdout",
     "output_type": "stream",
     "text": [
      "Sonam Karia\n"
     ]
    },
    {
     "name": "stderr",
     "output_type": "stream",
     "text": [
      " 25%|████████████████████▊                                                              | 5/20 [00:52<02:39, 10.64s/it]"
     ]
    },
    {
     "name": "stdout",
     "output_type": "stream",
     "text": [
      "Hussam Qassim\n"
     ]
    },
    {
     "name": "stderr",
     "output_type": "stream",
     "text": [
      " 30%|████████████████████████▉                                                          | 6/20 [01:00<02:21, 10.11s/it]"
     ]
    },
    {
     "name": "stdout",
     "output_type": "stream",
     "text": [
      "John Peach\n"
     ]
    },
    {
     "name": "stderr",
     "output_type": "stream",
     "text": [
      " 35%|█████████████████████████████                                                      | 7/20 [01:12<02:18, 10.68s/it]"
     ]
    },
    {
     "name": "stdout",
     "output_type": "stream",
     "text": [
      "Ruozhang (Olivia) Yao\n"
     ]
    },
    {
     "name": "stderr",
     "output_type": "stream",
     "text": [
      " 40%|█████████████████████████████████▏                                                 | 8/20 [01:21<02:01, 10.14s/it]"
     ]
    },
    {
     "name": "stdout",
     "output_type": "stream",
     "text": [
      "Shantanu Mishra\n"
     ]
    },
    {
     "name": "stderr",
     "output_type": "stream",
     "text": [
      " 45%|█████████████████████████████████████▎                                             | 9/20 [01:34<02:01, 11.01s/it]"
     ]
    },
    {
     "name": "stdout",
     "output_type": "stream",
     "text": [
      "Veer Lade\n"
     ]
    },
    {
     "name": "stderr",
     "output_type": "stream",
     "text": [
      " 50%|█████████████████████████████████████████                                         | 10/20 [01:44<01:44, 10.49s/it]"
     ]
    },
    {
     "name": "stdout",
     "output_type": "stream",
     "text": [
      "Eizat Mushtaq\n"
     ]
    },
    {
     "name": "stderr",
     "output_type": "stream",
     "text": [
      " 55%|█████████████████████████████████████████████                                     | 11/20 [01:56<01:40, 11.16s/it]"
     ]
    },
    {
     "name": "stdout",
     "output_type": "stream",
     "text": [
      "Chen Roujing (Rice)\n"
     ]
    },
    {
     "name": "stderr",
     "output_type": "stream",
     "text": [
      " 60%|█████████████████████████████████████████████████▏                                | 12/20 [02:07<01:28, 11.01s/it]"
     ]
    },
    {
     "name": "stdout",
     "output_type": "stream",
     "text": [
      "Mike Yung\n"
     ]
    },
    {
     "name": "stderr",
     "output_type": "stream",
     "text": [
      " 65%|█████████████████████████████████████████████████████▎                            | 13/20 [02:17<01:15, 10.80s/it]"
     ]
    },
    {
     "name": "stdout",
     "output_type": "stream",
     "text": [
      "Kevin Coyle\n"
     ]
    },
    {
     "name": "stderr",
     "output_type": "stream",
     "text": [
      " 70%|█████████████████████████████████████████████████████████▍                        | 14/20 [02:28<01:04, 10.69s/it]"
     ]
    },
    {
     "name": "stdout",
     "output_type": "stream",
     "text": [
      "Bowen Chen\n"
     ]
    },
    {
     "name": "stderr",
     "output_type": "stream",
     "text": [
      " 75%|█████████████████████████████████████████████████████████████▌                    | 15/20 [02:40<00:55, 11.17s/it]"
     ]
    },
    {
     "name": "stdout",
     "output_type": "stream",
     "text": [
      "Siyu Xiao\n"
     ]
    },
    {
     "name": "stderr",
     "output_type": "stream",
     "text": [
      " 80%|█████████████████████████████████████████████████████████████████▌                | 16/20 [02:50<00:43, 10.92s/it]"
     ]
    },
    {
     "name": "stdout",
     "output_type": "stream",
     "text": [
      "Padideh (Medisa) Danaee\n"
     ]
    },
    {
     "name": "stderr",
     "output_type": "stream",
     "text": [
      " 85%|█████████████████████████████████████████████████████████████████████▋            | 17/20 [03:02<00:32, 10.97s/it]"
     ]
    },
    {
     "name": "stdout",
     "output_type": "stream",
     "text": [
      "Wei Sui\n"
     ]
    },
    {
     "name": "stderr",
     "output_type": "stream",
     "text": [
      " 90%|█████████████████████████████████████████████████████████████████████████▊        | 18/20 [03:12<00:21, 10.72s/it]"
     ]
    },
    {
     "name": "stdout",
     "output_type": "stream",
     "text": [
      "Anna Anoshina\n"
     ]
    },
    {
     "name": "stderr",
     "output_type": "stream",
     "text": [
      " 95%|█████████████████████████████████████████████████████████████████████████████▉    | 19/20 [03:24<00:11, 11.29s/it]"
     ]
    },
    {
     "name": "stdout",
     "output_type": "stream",
     "text": [
      "Ankita Goswami\n"
     ]
    },
    {
     "name": "stderr",
     "output_type": "stream",
     "text": [
      "100%|██████████████████████████████████████████████████████████████████████████████████| 20/20 [03:37<00:00, 11.82s/it]\n"
     ]
    }
   ],
   "source": [
    "if __name__ == '__main__':\n",
    "    download_folder = \"C:\\\\Users\\\\Bhagya\\\\Resume Analyzer\\\\ACTUAL PROJECT\\\\resumes\"\n",
    "    driver = Driver_Properties(download_folder)\n",
    "    Linkedin_Login(Username,Password)\n",
    "    role = sys.argv[1]\n",
    "    Search_Role(role)\n",
    "    location = sys.argv[2]                #\"Orange County, California Area\" \n",
    "    Filter_Location(location)\n",
    "    page_limit = int(sys.argv[3])\n",
    "    page_urls = Get_Page_Urls(page_limit)\n",
    "    profilelinks = Profile_Links(page_urls)\n",
    "    Download_Pdf(profilelinks,download_folder)\n",
    "    driver.close()"
   ]
  }
 ],
 "metadata": {
  "kernelspec": {
   "display_name": "Python 3",
   "language": "python",
   "name": "python3"
  },
  "language_info": {
   "codemirror_mode": {
    "name": "ipython",
    "version": 3
   },
   "file_extension": ".py",
   "mimetype": "text/x-python",
   "name": "python",
   "nbconvert_exporter": "python",
   "pygments_lexer": "ipython3",
   "version": "3.7.3"
  }
 },
 "nbformat": 4,
 "nbformat_minor": 2
}
