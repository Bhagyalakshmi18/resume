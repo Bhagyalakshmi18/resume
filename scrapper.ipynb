{
 "cells": [
  {
   "cell_type": "code",
   "execution_count": 11,
   "metadata": {},
   "outputs": [],
   "source": [
    "import selenium\n",
    "from selenium import webdriver as wb\n",
    "from selenium.webdriver.chrome.options import Options\n",
    "from selenium.webdriver.common.keys import Keys\n",
    "import time\n",
    "import os\n",
    "import shutil"
   ]
  },
  {
   "cell_type": "code",
   "execution_count": 12,
   "metadata": {},
   "outputs": [],
   "source": [
    "options = Options()\n",
    "options = wb.ChromeOptions()\n",
    "download_folder = \"C:\\\\Users\\\\skonchad\\\\OneDrive - Ascension\\\\Desktop\\\\DS_Projects\\\\bhagya\\\\Resumes\"\n",
    "prefs = {\n",
    "        \"download.default_directory\": download_folder,\n",
    "        \"download.prompt_for_download\": False,\n",
    "        \"download.directory_upgrade\": True,\n",
    "        \"safebrowsing.disable_download_protection\": True,\n",
    "        \"safebrowsing.enabled\": True\n",
    "        }\n",
    "options.add_experimental_option(\"prefs\", prefs)\n",
    "options.add_argument(\"window-size=1200x600\")\n",
    "options.add_argument('start-maximized')\n",
    "options.add_argument('disable-infobars')\n",
    "driver = wb.Chrome(chrome_options=options)"
   ]
  },
  {
   "cell_type": "code",
   "execution_count": 13,
   "metadata": {},
   "outputs": [],
   "source": [
    "driver.get('https://www.linkedin.com/feed')\n",
    "clickSignin = driver.find_element_by_xpath('/html/body/div/main/p/a').click()"
   ]
  },
  {
   "cell_type": "code",
   "execution_count": 14,
   "metadata": {},
   "outputs": [],
   "source": [
    "username = driver.find_element_by_id('username')\n",
    "username.send_keys('mounika20vancha@gmail.com')\n",
    "passwd = driver.find_element_by_id('password')\n",
    "passwd.send_keys('3000series')\n",
    "passwd.send_keys(Keys.ENTER)\n",
    "time.sleep(2)"
   ]
  },
  {
   "cell_type": "code",
   "execution_count": 5,
   "metadata": {},
   "outputs": [],
   "source": [
    "#driver.find_element_by_id(\"mynetwork-tab-icon\").click()\n",
    "searchRole = driver.find_element_by_xpath('//*[@id=\"ember30\"]/input')\n",
    "searchRole.send_keys('Data Scientist')\n",
    "searchRole.send_keys(Keys.ENTER)"
   ]
  },
  {
   "cell_type": "code",
   "execution_count": 6,
   "metadata": {},
   "outputs": [],
   "source": [
    "## trick:search by div class only\n",
    "ao = driver.find_element_by_class_name('authentication-outlet')\n",
    "ng = ao.find_element_by_class_name('neptune-grid')\n",
    "sf = ng.find_element_by_class_name('search-filters-bar') \n",
    "people = sf.find_element_by_class_name('search-vertical-filter__filter-item').click()"
   ]
  },
  {
   "cell_type": "code",
   "execution_count": null,
   "metadata": {},
   "outputs": [],
   "source": [
    "'''\n",
    "pss = driver.get_screenshot_as_png()\n",
    "with open('people.png', 'wb') as f:\n",
    "    f.write(pss)\n",
    "'''"
   ]
  },
  {
   "cell_type": "code",
   "execution_count": null,
   "metadata": {},
   "outputs": [],
   "source": [
    "listOflinks=[]\n",
    "condition=True\n",
    "while condition:\n",
    "    peopleInfoList = driver.find_elements_by_class_name('search-result__wrapper')\n",
    "    for el in peopleInfoList:\n",
    "        ppp1=el.find_elements_by_class_name('search-result__info.pt3.pb4.ph0')[-1]\n",
    "        pp2=ppp1.find_element_by_tag_name('a')\n",
    "        listOflinks.append(pp2.get_property('href'))\n",
    "    try:\n",
    "        driver.find_elements_by_class_name('artdeco-pagination__button.artdeco-pagination__button--next.artdeco-button.artdeco-button--muted.artdeco-button--icon-right.artdeco-button--1.artdeco-button--tertiary.ember-view')[-1].click()\n",
    "    except:\n",
    "        condition=False"
   ]
  },
  {
   "cell_type": "code",
   "execution_count": null,
   "metadata": {},
   "outputs": [],
   "source": [
    "len(listOflinks)"
   ]
  },
  {
   "cell_type": "code",
   "execution_count": 9,
   "metadata": {},
   "outputs": [],
   "source": [
    "def download_wait(directory, timeout, nfiles=None):\n",
    "    \"\"\"\n",
    "    Wait for downloads to finish with a specified timeout.\n",
    "\n",
    "    Args\n",
    "    ----\n",
    "    directory : str\n",
    "        The path to the folder where the files will be downloaded.\n",
    "    timeout : int\n",
    "        How many seconds to wait until timing out.\n",
    "    nfiles : int, defaults to None\n",
    "        If provided, also wait for the expected number of files.\n",
    "\n",
    "    \"\"\"\n",
    "    seconds = 0\n",
    "    dl_wait = True\n",
    "    while dl_wait and seconds < timeout:\n",
    "        time.sleep(1)\n",
    "        dl_wait = False\n",
    "        files = os.listdir(directory)\n",
    "        if nfiles and len(files) != nfiles:\n",
    "            dl_wait = True\n",
    "\n",
    "        for fname in directory:\n",
    "            if fname.endswith('.crdownload'):\n",
    "                dl_wait = True\n",
    "\n",
    "        seconds += 1\n",
    "    return seconds"
   ]
  },
  {
   "cell_type": "code",
   "execution_count": 33,
   "metadata": {},
   "outputs": [],
   "source": [
    "testing = ['https://www.linkedin.com/in/ffarah/' , \n",
    "           'https://www.linkedin.com/in/santoshkonchada/',\n",
    "          'https://www.linkedin.com/in/bhagya-lakshmi-bodapati-60b093163/']"
   ]
  },
  {
   "cell_type": "code",
   "execution_count": 36,
   "metadata": {},
   "outputs": [
    {
     "name": "stderr",
     "output_type": "stream",
     "text": [
      " 33%|████████████████████████████                                                        | 1/3 [00:08<00:17,  8.96s/it]"
     ]
    },
    {
     "name": "stdout",
     "output_type": "stream",
     "text": [
      "Farah Farouk\n"
     ]
    },
    {
     "name": "stderr",
     "output_type": "stream",
     "text": [
      " 67%|████████████████████████████████████████████████████████                            | 2/3 [00:14<00:07,  7.99s/it]"
     ]
    },
    {
     "name": "stdout",
     "output_type": "stream",
     "text": [
      "Santosh K\n"
     ]
    },
    {
     "name": "stderr",
     "output_type": "stream",
     "text": [
      "100%|████████████████████████████████████████████████████████████████████████████████████| 3/3 [00:20<00:00,  6.69s/it]"
     ]
    },
    {
     "name": "stdout",
     "output_type": "stream",
     "text": [
      "Bhagya Lakshmi Bodapati\n"
     ]
    },
    {
     "name": "stderr",
     "output_type": "stream",
     "text": [
      "\n"
     ]
    }
   ],
   "source": [
    "from tqdm import tqdm\n",
    "for i in tqdm(testing):\n",
    "    driver.get(i)\n",
    "    m = driver.find_element_by_class_name(\"flex-1\")\n",
    "    m.find_element_by_class_name(\"pv-s-profile-actions__overflow\").click()\n",
    "    p_name = m.find_element_by_xpath('/html/body/div[5]/div[4]/div[3]/div/div/div/div/div[2]/main/div[1]/section/div[2]/div[2]/div[1]/ul[1]/li[1]').text\n",
    "    name = p_name.split(',')[0]\n",
    "    m.find_element_by_class_name('pv-s-profile-actions--save-to-pdf').click()\n",
    "    download_wait(download_folder, 20)\n",
    "    filename = max([download_folder + \"\\\\\" + f for f in os.listdir(download_folder)],key=os.path.getctime) # write logic such that if folder is empty it works \n",
    "    shutil.move(filename,os.path.join(download_folder, name + '.pdf'))\n",
    "    time.sleep(2)\n",
    "    print(name)"
   ]
  },
  {
   "cell_type": "code",
   "execution_count": null,
   "metadata": {},
   "outputs": [],
   "source": []
  }
 ],
 "metadata": {
  "kernelspec": {
   "display_name": "Python 3",
   "language": "python",
   "name": "python3"
  },
  "language_info": {
   "codemirror_mode": {
    "name": "ipython",
    "version": 3
   },
   "file_extension": ".py",
   "mimetype": "text/x-python",
   "name": "python",
   "nbconvert_exporter": "python",
   "pygments_lexer": "ipython3",
   "version": "3.7.6"
  }
 },
 "nbformat": 4,
 "nbformat_minor": 4
}
