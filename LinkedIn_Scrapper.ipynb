{
 "cells": [
  {
   "cell_type": "code",
   "execution_count": 1,
   "metadata": {},
   "outputs": [],
   "source": [
    "import selenium\n",
    "from selenium import webdriver as wb\n",
    "from selenium.webdriver.chrome.options import Options\n",
    "from selenium.webdriver.common.keys import Keys\n",
    "import time\n",
    "import os\n",
    "import re\n",
    "import shutil\n",
    "import glob\n",
    "from random import randrange\n",
    "from tqdm import tqdm\n",
    "from selenium.webdriver.common.action_chains import ActionChains\n",
    "from selenium.webdriver.common.by import By\n",
    "from selenium.webdriver.support.ui import WebDriverWait\n",
    "from selenium.webdriver.support import expected_conditions as EC"
   ]
  },
  {
   "cell_type": "code",
   "execution_count": 2,
   "metadata": {},
   "outputs": [],
   "source": [
    "options = Options()\n",
    "options = wb.ChromeOptions()\n",
    "download_folder = \"C:\\\\Users\\\\skonchad\\\\OneDrive - Ascension\\\\Desktop\\\\DS_Projects\\\\bhagya\\\\Resumes\"\n",
    "prefs = {\n",
    "        \"download.default_directory\": download_folder,\n",
    "        \"download.prompt_for_download\": False,\n",
    "        \"download.directory_upgrade\": True,\n",
    "        \"safebrowsing.disable_download_protection\": True,\n",
    "        \"safebrowsing.enabled\": True\n",
    "        }\n",
    "options.add_experimental_option(\"prefs\", prefs)\n",
    "options.add_argument(\"window-size=1200x600\")\n",
    "options.add_argument('start-maximized')\n",
    "options.add_argument('disable-infobars')\n",
    "driver = wb.Chrome(chrome_options=options)"
   ]
  },
  {
   "cell_type": "code",
   "execution_count": 3,
   "metadata": {},
   "outputs": [],
   "source": [
    "driver.get('https://www.linkedin.com/feed')\n",
    "clickSignin = driver.find_element_by_xpath('/html/body/div/main/p/a').click()"
   ]
  },
  {
   "cell_type": "code",
   "execution_count": 4,
   "metadata": {},
   "outputs": [],
   "source": [
    "username = driver.find_element_by_id('username')\n",
    "username.send_keys('mounika20vancha@gmail.com')\n",
    "passwd = driver.find_element_by_id('password')\n",
    "passwd.send_keys('3000series')\n",
    "passwd.send_keys(Keys.ENTER)\n",
    "time.sleep(2)"
   ]
  },
  {
   "cell_type": "code",
   "execution_count": 5,
   "metadata": {},
   "outputs": [],
   "source": [
    "s = driver.find_element_by_class_name('nav-search-typeahead')\n",
    "sr = s.find_element_by_class_name('search-global-typeahead__input')\n",
    "sr.send_keys('Data Scientist')\n",
    "sr.send_keys(Keys.ENTER)\n",
    "time.sleep(2)"
   ]
  },
  {
   "cell_type": "code",
   "execution_count": 6,
   "metadata": {},
   "outputs": [],
   "source": [
    "## trick:search by div class only\n",
    "ao = driver.find_element_by_class_name('authentication-outlet')\n",
    "ng = ao.find_element_by_class_name('neptune-grid')\n",
    "sf = ng.find_element_by_class_name('search-filters-bar') \n",
    "people = sf.find_element_by_class_name('search-vertical-filter__filter-item').click()\n",
    "time.sleep(2)"
   ]
  },
  {
   "cell_type": "code",
   "execution_count": null,
   "metadata": {},
   "outputs": [],
   "source": [
    "l = driver.find_element_by_class_name('peek-carousel')\n",
    "l.find_element_by_class_name('search-s-facet--geoRegion').click()\n",
    "to = driver.find_element_by_xpath(\"//input[@role='combobox'][@placeholder='Add a country/region']\") # changed from l to driver\n",
    "to.clear\n",
    "to.send_keys(\"Orange County, California Area\")\n",
    "time.sleep(2)\n",
    "to.send_keys(Keys.DOWN, Keys.RETURN)\n",
    "ap = l.find_element_by_class_name('justify-flex-end')\n",
    "app = ap.find_element_by_class_name('facet-collection-list__apply-button').click()\n",
    "#driver.find_element_by_css_selector(\"button.facet-collection-list__apply-button\").click()\n",
    "#ap.find_element_by_xpath(\"//button[@class='facet-collection-list__apply-button']\").click()\n",
    "#a = ap.find_element_by_xpath('/html/body/div[5]/div[3]/div[3]/div/div[1]/header/div/div/div[2]/div/div/div/ul/li[2]/form/div/fieldset/div/div[2]/div/button[2]')"
   ]
  },
  {
   "cell_type": "code",
   "execution_count": 63,
   "metadata": {},
   "outputs": [],
   "source": [
    "#next = driver.find_elements_by_tag_name('button')[32].click()"
   ]
  },
  {
   "cell_type": "code",
   "execution_count": null,
   "metadata": {},
   "outputs": [],
   "source": [
    "page_url = []\n",
    "for i in range(1,5):\n",
    "    results = driver.find_elements_by_class_name(\"search-result__occluded-item\")\n",
    "    for result in results:\n",
    "        hover = ActionChains(driver).move_to_element(result)\n",
    "        hover.perform()\n",
    "        time.sleep(randrange(3,6)) \n",
    "    page = driver.find_element_by_css_selector(\".artdeco-pagination__button--next[aria-label='Next']\").click()\n",
    "    url = driver.current_url\n",
    "    page_url.append(url)\n",
    "    time.sleep(randrange(4,7))"
   ]
  },
  {
   "cell_type": "code",
   "execution_count": 23,
   "metadata": {},
   "outputs": [
    {
     "name": "stderr",
     "output_type": "stream",
     "text": [
      "\n",
      "  0%|                                                                                            | 0/4 [00:00<?, ?it/s]\u001b[A\n",
      " 25%|█████████████████████                                                               | 1/4 [01:24<04:14, 84.90s/it]\u001b[A\n",
      " 50%|██████████████████████████████████████████                                          | 2/4 [02:53<02:52, 86.13s/it]\u001b[A\n",
      " 75%|███████████████████████████████████████████████████████████████                     | 3/4 [04:16<01:25, 85.16s/it]\u001b[A\n",
      "100%|████████████████████████████████████████████████████████████████████████████████████| 4/4 [05:39<00:00, 84.93s/it]\u001b[A\n"
     ]
    }
   ],
   "source": [
    "listOflinks = []\n",
    "for i in tqdm(page_url):\n",
    "    driver.get(i)\n",
    "    results = driver.find_elements_by_class_name(\"search-result__occluded-item\")\n",
    "    for result in results:\n",
    "        hover = ActionChains(driver).move_to_element(result)\n",
    "        hover.perform()\n",
    "        time.sleep(randrange(3,6))\n",
    "        links = result.find_element_by_class_name('search-result__result-link').get_property('href')\n",
    "        listOflinks.append(links)\n",
    "        time.sleep(randrange(3,6))"
   ]
  },
  {
   "cell_type": "code",
   "execution_count": 24,
   "metadata": {},
   "outputs": [
    {
     "data": {
      "text/plain": [
       "40"
      ]
     },
     "execution_count": 24,
     "metadata": {},
     "output_type": "execute_result"
    }
   ],
   "source": [
    "len(listOflinks)"
   ]
  },
  {
   "cell_type": "code",
   "execution_count": null,
   "metadata": {},
   "outputs": [],
   "source": [
    "def download_wait(directory, timeout, nfiles=None):\n",
    "    \"\"\"\n",
    "    Wait for downloads to finish with a specified timeout.\n",
    "\n",
    "    Args\n",
    "    ----\n",
    "    directory : str\n",
    "        The path to the folder where the files will be downloaded.\n",
    "    timeout : int\n",
    "        How many seconds to wait until timing out.\n",
    "    nfiles : int, defaults to None\n",
    "        If provided, also wait for the expected number of files.\n",
    "\n",
    "    \"\"\"\n",
    "    seconds = 0\n",
    "    dl_wait = True\n",
    "    while dl_wait and seconds < timeout:\n",
    "        time.sleep(1)\n",
    "        dl_wait = False\n",
    "        files = os.listdir(directory)\n",
    "        if nfiles and len(files) != nfiles:\n",
    "            dl_wait = True\n",
    "\n",
    "        for fname in directory:\n",
    "            if fname.endswith('.crdownload'):\n",
    "                dl_wait = True\n",
    "\n",
    "        seconds += 1\n",
    "    return seconds"
   ]
  },
  {
   "cell_type": "code",
   "execution_count": null,
   "metadata": {},
   "outputs": [],
   "source": [
    "testing = ['https://www.linkedin.com/in/santoshkonchada/',\n",
    "          'https://www.linkedin.com/in/bhagya-lakshmi-bodapati-60b093163/',\n",
    "          'https://www.linkedin.com/in/mounika-vancha-a59b20132/',\n",
    "          'https://www.linkedin.com/in/sonamkaria/',\n",
    "          'https://www.linkedin.com/in/shirin-yavari-5152b9138/',\n",
    "          'https://www.linkedin.com/in/mishra-shantanu/',\n",
    "          'https://www.linkedin.com/in/rhimanshu/'\n",
    "         ] "
   ]
  },
  {
   "cell_type": "code",
   "execution_count": null,
   "metadata": {},
   "outputs": [],
   "source": [
    "for i in tqdm(testing):\n",
    "    driver.get(i)\n",
    "    m = driver.find_element_by_class_name(\"flex-1\")\n",
    "    m.find_element_by_class_name(\"pv-s-profile-actions__overflow\").click()\n",
    "    p_name = m.find_element_by_xpath('/html/body/div[5]/div[4]/div[3]/div/div/div/div/div[2]/main/div[1]/section/div[2]/div[2]/div[1]/ul[1]/li[1]').text\n",
    "    name = p_name.split(',')[0]\n",
    "    m.find_element_by_class_name('pv-s-profile-actions--save-to-pdf').click()\n",
    "    time.sleep(randrange(5, 10))\n",
    "    filename = max(glob.iglob(download_folder +'/*'), key=os.path.getmtime)\n",
    "    shutil.move(filename,os.path.join(download_folder, name + '.pdf'))\n",
    "    #download_wait(download_folder, 20)\n",
    "    time.sleep(randrange(5, 10))\n",
    "    print(name)"
   ]
  },
  {
   "cell_type": "code",
   "execution_count": null,
   "metadata": {},
   "outputs": [],
   "source": [
    "#driver.close()"
   ]
  },
  {
   "cell_type": "markdown",
   "metadata": {},
   "source": [
    "## Extraas"
   ]
  },
  {
   "cell_type": "code",
   "execution_count": null,
   "metadata": {},
   "outputs": [],
   "source": [
    "#driver.find_element_by_css_selector(\".artdeco-pagination__button--next[aria-label='Next']\").click()\n",
    "#driver.find_element_by_id(\"mynetwork-tab-icon\").click()\n",
    "#driver.find_element_by_link_text('Jobs').click()\n",
    "#driver.find_element_by_xpath('//*[@id=\"ember30\"]/input')\n",
    "#t = l.find_element_by_xpath('//*[@id=\"ember2120\"]/input')\n",
    "#s = driver.find_element_by_css_selector(\".jobs-search-box__text-input[aria-label='Search jobs']\")\n",
    "#s.send_keys(\"Data Scientist\")\n",
    "#filename = max([download_folder + \"\\\\\" + f for f in os.listdir(download_folder)],key=os.path.getctime) # write logic such that if folder is empty it works "
   ]
  },
  {
   "cell_type": "code",
   "execution_count": null,
   "metadata": {},
   "outputs": [],
   "source": [
    "## First Draft\n",
    "listOflinks = []\n",
    "current_page = driver.current_url\n",
    "results = driver.find_elements_by_class_name(\"search-result__occluded-item\") \n",
    "for result in results:\n",
    "    hover = ActionChains(driver).move_to_element(result)\n",
    "    hover.perform()\n",
    "    time.sleep(randrange(3,6))\n",
    "    links = result.find_element_by_class_name('search-result__result-link').get_property('href')\n",
    "    listOflinks.append(links)"
   ]
  },
  {
   "cell_type": "code",
   "execution_count": null,
   "metadata": {},
   "outputs": [],
   "source": [
    "listOflinks = []\n",
    "for i in page_url:\n",
    "    driver.get(i)\n",
    "    results = driver.find_elements_by_class_name(\"search-result--occlusion-enabled\")\n",
    "    for result in results:\n",
    "        hover = ActionChains(driver).move_to_element(result)\n",
    "        hover.perform()\n",
    "        ppp1=result.find_element_by_class_name('search-result__info')\n",
    "        pp2=ppp1.find_element_by_tag_name('a')\n",
    "        listOflinks.append(pp2.get_property('href'))\n",
    "        time.sleep(5)"
   ]
  },
  {
   "cell_type": "code",
   "execution_count": null,
   "metadata": {},
   "outputs": [],
   "source": [
    "page_url = []\n",
    "for i in range(1,5):\n",
    "    results = driver.find_elements_by_class_name(\"search-result__occluded-item\")\n",
    "    for result in results:\n",
    "        hover = ActionChains(driver).move_to_element(result)\n",
    "        hover.perform()\n",
    "        time.sleep(randrange(3,6))\n",
    "    page = driver.find_element_by_css_selector(\".artdeco-pagination__button--next[aria-label='Next']\").click()\n",
    "    url = driver.current_url\n",
    "    page_url.append(url)\n",
    "    time.sleep(randrange(4,7))"
   ]
  }
 ],
 "metadata": {
  "kernelspec": {
   "display_name": "Python 3",
   "language": "python",
   "name": "python3"
  },
  "language_info": {
   "codemirror_mode": {
    "name": "ipython",
    "version": 3
   },
   "file_extension": ".py",
   "mimetype": "text/x-python",
   "name": "python",
   "nbconvert_exporter": "python",
   "pygments_lexer": "ipython3",
   "version": "3.7.6"
  }
 },
 "nbformat": 4,
 "nbformat_minor": 4
}
